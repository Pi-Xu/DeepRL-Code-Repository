{
 "cells": [
  {
   "cell_type": "markdown",
   "metadata": {},
   "source": [
    "# test\n",
    "\n",
    "## helper function"
   ]
  },
  {
   "cell_type": "code",
   "execution_count": 42,
   "metadata": {},
   "outputs": [],
   "source": [
    "import numpy as np"
   ]
  },
  {
   "cell_type": "code",
   "execution_count": 43,
   "metadata": {},
   "outputs": [],
   "source": [
    "np.random.seed(0)\n",
    "rewards = list(np.random.randint(low=10, high=100, size=100))\n",
    "gamma = 0.2\n"
   ]
  },
  {
   "cell_type": "code",
   "execution_count": 44,
   "metadata": {},
   "outputs": [],
   "source": [
    "list_of_discounted_returns = []\n",
    "\n",
    "gamma_computation = np.arange(len(rewards))\n",
    "gamma_array = gamma ** gamma_computation\n",
    "list_of_discounted_returns = np.array(rewards) * gamma_array\n"
   ]
  },
  {
   "cell_type": "code",
   "execution_count": 46,
   "metadata": {},
   "outputs": [
    {
     "data": {
      "text/plain": [
       "array([5.40000000e+01, 1.14000000e+01, 2.96000000e+00, 6.16000000e-01,\n",
       "       1.23200000e-01, 6.08000000e-03, 5.95200000e-03, 3.96800000e-04,\n",
       "       1.17760000e-04, 4.96640000e-05, 8.19200000e-06, 2.00704000e-06,\n",
       "       4.01408000e-07, 1.80224000e-08, 1.11411200e-08, 2.45760000e-09,\n",
       "       3.21126400e-10, 1.27139840e-10, 1.46800640e-11, 5.13802240e-12,\n",
       "       9.54204160e-13, 9.85661440e-14, 1.46800640e-14, 7.29808896e-15,\n",
       "       1.37573171e-15, 6.37534208e-17, 2.01326592e-17, 1.20795955e-17,\n",
       "       2.12064010e-18, 4.77815112e-19, 6.12032840e-20, 1.58913790e-20,\n",
       "       3.95136991e-21, 8.41813590e-22, 1.01361228e-22, 1.34002980e-23,\n",
       "       1.99286483e-24, 3.98572965e-25, 6.59706977e-26, 2.69380349e-26,\n",
       "       4.61794884e-27, 1.64926744e-27, 8.35628837e-29, 5.89338232e-29,\n",
       "       7.38871814e-30, 1.44255926e-30, 5.91097451e-31, 4.64433712e-32,\n",
       "       1.26663740e-32, 4.78507460e-33, 7.31834939e-34, 8.55683929e-35,\n",
       "       1.98158384e-35, 9.00719925e-37, 1.80143985e-37, 1.65732466e-37,\n",
       "       4.53962842e-38, 2.16172782e-39, 1.38350581e-39, 1.55644403e-40,\n",
       "       1.02610014e-40, 3.22818021e-42, 2.39807673e-42, 6.27189299e-43,\n",
       "       7.56316507e-44, 4.05828370e-45, 5.53402322e-45, 7.52627158e-46,\n",
       "       1.97749096e-46, 2.65633115e-47, 2.47924240e-48, 1.32226262e-48,\n",
       "       4.34457716e-49, 9.44473297e-51, 4.53347182e-51, 2.38007271e-51,\n",
       "       1.66227300e-52, 7.85801783e-53, 2.84097568e-53, 5.13793473e-54,\n",
       "       9.42962139e-55, 3.86856262e-56, 3.77184856e-56, 5.51270174e-57,\n",
       "       2.51456570e-58, 3.32696386e-58, 4.79701765e-59, 1.36173404e-59,\n",
       "       7.73712525e-61, 1.85691006e-61, 8.41799227e-62, 8.17040426e-63,\n",
       "       4.40706654e-63, 2.27780967e-64, 1.88166886e-64, 2.29761671e-65,\n",
       "       4.67446159e-66, 1.25180497e-66, 1.61625452e-67, 2.85221385e-68])"
      ]
     },
     "execution_count": 46,
     "metadata": {},
     "output_type": "execute_result"
    }
   ],
   "source": [
    "list_of_discounted_returns"
   ]
  },
  {
   "cell_type": "code",
   "execution_count": 45,
   "metadata": {},
   "outputs": [
    {
     "data": {
      "text/plain": [
       "array([69.11180686])"
      ]
     },
     "execution_count": 45,
     "metadata": {},
     "output_type": "execute_result"
    }
   ],
   "source": [
    "np.sum(list_of_discounted_returns, keepdims=True)"
   ]
  },
  {
   "cell_type": "markdown",
   "metadata": {},
   "source": [
    "reward_to_go"
   ]
  },
  {
   "cell_type": "code",
   "execution_count": 56,
   "metadata": {},
   "outputs": [],
   "source": [
    "np.random.seed(0)\n",
    "rewards = list(np.random.randint(low=10, high=100, size=100))\n",
    "gamma = 0.2"
   ]
  },
  {
   "cell_type": "code",
   "execution_count": 57,
   "metadata": {},
   "outputs": [],
   "source": [
    "len_rewards = len(rewards)\n",
    "mask = np.ones(len_rewards)"
   ]
  },
  {
   "cell_type": "code",
   "execution_count": 58,
   "metadata": {},
   "outputs": [],
   "source": [
    "mask = np.triu(mask)"
   ]
  },
  {
   "cell_type": "code",
   "execution_count": 59,
   "metadata": {},
   "outputs": [],
   "source": [
    "gamma_computation = np.arange(len(rewards))\n",
    "gamma_array = gamma ** gamma_computation"
   ]
  },
  {
   "cell_type": "code",
   "execution_count": 60,
   "metadata": {},
   "outputs": [],
   "source": [
    "gamma_array = np.expand_dims(gamma_array, 0)"
   ]
  },
  {
   "cell_type": "code",
   "execution_count": 61,
   "metadata": {},
   "outputs": [],
   "source": [
    "list_of_discounted_cumsums = mask * gamma_array / gamma_array.transpose() * np.array(rewards).reshape((1, len_rewards))"
   ]
  },
  {
   "cell_type": "code",
   "execution_count": 63,
   "metadata": {},
   "outputs": [],
   "source": [
    "list_of_discounted_cumsums = list(list_of_discounted_cumsums.sum(axis=1))"
   ]
  },
  {
   "cell_type": "markdown",
   "metadata": {},
   "source": [
    "## 测试swig"
   ]
  },
  {
   "cell_type": "code",
   "execution_count": 1,
   "metadata": {},
   "outputs": [],
   "source": [
    "import gym\n",
    "\n",
    "env = gym.make(\"LunarLanderContinuous-v2\")\n"
   ]
  },
  {
   "cell_type": "code",
   "execution_count": null,
   "metadata": {},
   "outputs": [],
   "source": []
  }
 ],
 "metadata": {
  "kernelspec": {
   "display_name": "Python 3.8.5 ('rlenv')",
   "language": "python",
   "name": "python3"
  },
  "language_info": {
   "codemirror_mode": {
    "name": "ipython",
    "version": 3
   },
   "file_extension": ".py",
   "mimetype": "text/x-python",
   "name": "python",
   "nbconvert_exporter": "python",
   "pygments_lexer": "ipython3",
   "version": "3.8.5"
  },
  "orig_nbformat": 4,
  "vscode": {
   "interpreter": {
    "hash": "e99c6a051cabfccea28eda58226a3deb0006c283efe5463cd051c492fa4b03c9"
   }
  }
 },
 "nbformat": 4,
 "nbformat_minor": 2
}
